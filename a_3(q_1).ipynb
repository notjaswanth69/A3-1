{
  "nbformat": 4,
  "nbformat_minor": 0,
  "metadata": {
    "colab": {
      "provenance": [],
      "authorship_tag": "ABX9TyMO8EbeTY5e3qlHDQUOA8r3",
      "include_colab_link": true
    },
    "kernelspec": {
      "name": "python3",
      "display_name": "Python 3"
    },
    "language_info": {
      "name": "python"
    }
  },
  "cells": [
    {
      "cell_type": "markdown",
      "metadata": {
        "id": "view-in-github",
        "colab_type": "text"
      },
      "source": [
        "<a href=\"https://colab.research.google.com/github/notjaswanth69/A3-1/blob/main/a_3(q_1).ipynb\" target=\"_parent\"><img src=\"https://colab.research.google.com/assets/colab-badge.svg\" alt=\"Open In Colab\"/></a>"
      ]
    },
    {
      "cell_type": "code",
      "execution_count": null,
      "metadata": {
        "colab": {
          "base_uri": "https://localhost:8080/"
        },
        "id": "Yua492pAmeh3",
        "outputId": "c2ce79a5-e5ca-4810-8677-2f0a93fe09b7"
      },
      "outputs": [
        {
          "output_type": "stream",
          "name": "stdout",
          "text": [
            "Array (1x10 vector): [ 1  2  3  4  5  6  7  8  9 10]\n",
            "Mean: 5.5000\n",
            "Sample Variance): 9.1667\n",
            "Population Variance: 8.2500\n"
          ]
        }
      ],
      "source": [
        "import numpy as np\n",
        "N = 10\n",
        "vector = np.array([1, 2, 3, 4, 5, 6, 7, 8, 9, 10])\n",
        "\n",
        "mean = np.mean(vector)\n",
        "\n",
        "sample_variance = np.var(vector, ddof=1)\n",
        "\n",
        "population_variance = np.var(vector)\n",
        "\n",
        "print(f'Array (1x{N} vector): {vector}')\n",
        "print(f'Mean: {mean:.4f}')\n",
        "print(f'Sample Variance): {sample_variance:.4f}')\n",
        "print(f'Population Variance: {population_variance:.4f}')"
      ]
    }
  ]
}